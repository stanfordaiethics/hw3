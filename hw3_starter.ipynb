{
 "cells": [
  {
   "cell_type": "code",
   "execution_count": 1,
   "id": "bc955f25",
   "metadata": {},
   "outputs": [],
   "source": [
    "\"\"\"\n",
    "Starter code for CS 281 HW3.\n",
    "\"\"\"\n",
    "import math\n",
    "\n",
    "import numpy as np\n",
    "import pandas as pd\n",
    "import seaborn as sns\n",
    "import matplotlib.pyplot as plt\n",
    "\n",
    "# Don't modify these; especially the seed!\n",
    "np.random.seed(42)\n",
    "n = 10000\n",
    "d = 10\n",
    "\n",
    "prevalences = np.random.random(d)\n",
    "X = np.array([np.random.binomial(n=1, p=p0, size=n) for p0 in prevalences]).T"
   ]
  },
  {
   "cell_type": "markdown",
   "id": "bf7b3c3d",
   "metadata": {},
   "source": [
    "## Problem 1.2 Univariate case"
   ]
  },
  {
   "cell_type": "code",
   "execution_count": null,
   "id": "2ef9696a",
   "metadata": {},
   "outputs": [],
   "source": [
    "def laplace_mechanism(x, sensitivity, epsilon):\n",
    "    raise NotImplementedError(\"Your implementation goes here.\")"
   ]
  },
  {
   "cell_type": "code",
   "execution_count": null,
   "id": "d6224b09",
   "metadata": {},
   "outputs": [],
   "source": [
    "# specify sensitivity\n",
    "sensitivity = \n",
    "real_mean_1 = np.mean(X[:,0])\n",
    "\n",
    "# calculate mean using the laplace mechanism and 3 different values of epsilon\n",
    "for epsilon in [0.01, 0.1, 1]:\n",
    "    means = [laplace_mechanism(X[:,0], sensitivity, epsilon)[0] for el in range(1000)]\n",
    "    \n"
   ]
  },
  {
   "cell_type": "code",
   "execution_count": null,
   "id": "7c0e1c74",
   "metadata": {},
   "outputs": [],
   "source": [
    "# plot the distribution of mean values\n",
    "# Hint: generate a pandas dataframe with columns 'mean' and 'epsilon', and use sns.FacetGrid\n",
    "\n",
    "# mark the true mean value on your plots"
   ]
  },
  {
   "cell_type": "markdown",
   "id": "7d53d408",
   "metadata": {},
   "source": [
    "## Problem 1.3 Multivariate case"
   ]
  },
  {
   "cell_type": "code",
   "execution_count": null,
   "id": "6d0f46ec",
   "metadata": {},
   "outputs": [],
   "source": [
    "sensitivity =\n",
    "\n",
    "real_mean2 = np.mean(X, axis=0)\n",
    "for epsilon in [0.01, 0.1, 1]:\n",
    "    means = np.array([laplace_mechanism(X, sensitivity, epsilon) for el in range(1000)])\n"
   ]
  },
  {
   "cell_type": "code",
   "execution_count": null,
   "id": "b961bfea",
   "metadata": {},
   "outputs": [],
   "source": [
    "# plot the distribution of mean values for all 10 diseases\n",
    "# Hint: generate a pandas dataframe with columns 'mean', 'epsilon' and 'disease', and use sns.FacetGrid\n",
    "# mark the true mean value on your plots"
   ]
  },
  {
   "cell_type": "code",
   "execution_count": null,
   "id": "b6085d30",
   "metadata": {},
   "outputs": [],
   "source": [
    "for disease in range(10):\n",
    "    raise NotImplementedError(\"Your implementation goes here.\")"
   ]
  },
  {
   "cell_type": "markdown",
   "id": "2249725b",
   "metadata": {},
   "source": [
    "## Problem 2.1 The Gaussian mechanism"
   ]
  },
  {
   "cell_type": "code",
   "execution_count": null,
   "id": "8773166d",
   "metadata": {},
   "outputs": [],
   "source": [
    "# hint: use np.random.normal\n",
    "def gaussian_mechanism(x, sensitivity, epsilon, delta):\n",
    "    raise NotImplementedError(\"Your implementation goes here.\")"
   ]
  },
  {
   "cell_type": "code",
   "execution_count": null,
   "id": "a3bf249e",
   "metadata": {},
   "outputs": [],
   "source": [
    "sensitivity = \n",
    "delta = 0.1\n",
    "\n",
    "for epsilon in [0.01, 0.1, 1]:\n",
    "    means = np.array([gaussian_mechanism(X, sensitivity, epsilon, delta) for el in range(1000)])"
   ]
  },
  {
   "cell_type": "code",
   "execution_count": null,
   "id": "e2dcd4d2",
   "metadata": {},
   "outputs": [],
   "source": [
    "# plot the distribution of mean values for all 10 diseases\n",
    "# Hint: generate a pandas dataframe with columns 'mean', 'epsilon' and 'disease', and use sns.FacetGrid\n",
    "# mark the true mean value on your plots\n",
    "\n",
    "for disease in range(10):\n",
    "    raise NotImplementedError(\"Your implementation goes here.\")"
   ]
  }
 ],
 "metadata": {
  "kernelspec": {
   "display_name": "Python 3 (ipykernel)",
   "language": "python",
   "name": "python3"
  },
  "language_info": {
   "codemirror_mode": {
    "name": "ipython",
    "version": 3
   },
   "file_extension": ".py",
   "mimetype": "text/x-python",
   "name": "python",
   "nbconvert_exporter": "python",
   "pygments_lexer": "ipython3",
   "version": "3.9.7"
  }
 },
 "nbformat": 4,
 "nbformat_minor": 5
}
